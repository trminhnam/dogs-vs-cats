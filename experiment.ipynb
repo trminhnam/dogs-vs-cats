{
 "cells": [
  {
   "cell_type": "code",
   "execution_count": 1,
   "metadata": {},
   "outputs": [],
   "source": [
    "import tensorflow as tf\n",
    "import numpy as np\n",
    "import pandas as pd\n",
    "import cv2\n",
    "import os\n",
    "from tqdm import tqdm\n",
    "from sklearn.model_selection import train_test_split\n",
    "from sklearn.metrics import classification_report, confusion_matrix"
   ]
  },
  {
   "cell_type": "code",
   "execution_count": 2,
   "metadata": {},
   "outputs": [],
   "source": [
    "import matplotlib.pyplot as plt\n",
    "import itertools\n",
    "from matplotlib import pyplot\n",
    "import sys\n",
    "%matplotlib inline\n",
    "\n",
    "def summarize_diagnostics(history, save_name='temp'):\n",
    "    # plot loss\n",
    "    pyplot.subplot(211)\n",
    "    pyplot.title('Cross Entropy Loss')\n",
    "    pyplot.plot(history.history['loss'], color='blue', label='train')\n",
    "    pyplot.plot(history.history['val_loss'], color='orange', label='test')\n",
    "    # plot accuracy\n",
    "    pyplot.subplot(212)\n",
    "    pyplot.title('Classification Accuracy')\n",
    "    pyplot.plot(history.history['accuracy'], color='blue', label='train')\n",
    "    pyplot.plot(history.history['val_accuracy'], color='orange', label='test')\n",
    "    pyplot.tight_layout()\n",
    "    # save plot to file\n",
    "    pyplot.savefig(save_name + '_plot.png')\n",
    "    pyplot.show()\n",
    "    pyplot.close()\n",
    "\n",
    "def plot_confusion_matrix(cm, classes,\n",
    "                          normalize=False,\n",
    "                          title='Confusion matrix',\n",
    "                          cmap=plt.cm.Blues):\n",
    "    \"\"\"\n",
    "    This function prints and plots the confusion matrix.\n",
    "    Normalization can be applied by setting `normalize=True`.\n",
    "    \"\"\"\n",
    "    if normalize:\n",
    "        cm = cm.astype('float') / cm.sum(axis=1, keepdims = True)\n",
    "\n",
    "    plt.imshow(cm, interpolation='nearest', cmap=cmap)\n",
    "    plt.title(title)\n",
    "    plt.colorbar()\n",
    "    tick_marks = np.arange(len(classes))\n",
    "    plt.xticks(tick_marks, classes, rotation=45)\n",
    "    plt.yticks(tick_marks, classes)\n",
    "\n",
    "    fmt = '.2f' if normalize else 'd'\n",
    "    thresh = cm.max() / 2.\n",
    "    for i, j in itertools.product(range(cm.shape[0]), range(cm.shape[1])):\n",
    "        plt.text(j, i, format(cm[i, j], fmt),\n",
    "                    horizontalalignment=\"center\",\n",
    "                    color=\"white\" if cm[i, j] > thresh else \"black\")\n",
    "\n",
    "    plt.tight_layout()\n",
    "    plt.ylabel('True label')\n",
    "    plt.xlabel('Predicted label')"
   ]
  },
  {
   "cell_type": "code",
   "execution_count": 3,
   "metadata": {},
   "outputs": [],
   "source": [
    "from tensorflow.compat.v1.keras.backend import set_session\n",
    "from tensorflow.compat.v1.keras.backend import clear_session\n",
    "from tensorflow.compat.v1.keras.backend import get_session\n",
    "import gc\n",
    "# import tensorflow\n",
    "\n",
    "# Reset Keras Session\n",
    "def reset_keras(model):\n",
    "    sess = get_session()\n",
    "    clear_session()\n",
    "    sess.close()\n",
    "    sess = get_session()\n",
    "\n",
    "    try:\n",
    "        del model # this is from global space - change this as you need\n",
    "    except:\n",
    "        pass\n",
    "\n",
    "    print(gc.collect()) # if it's done something you should see a number being outputted\n",
    "\n",
    "    # use the same config as you used to create the session\n",
    "    config = tf.compat.v1.ConfigProto()\n",
    "    config.gpu_options.per_process_gpu_memory_fraction = 1\n",
    "    config.gpu_options.visible_device_list = \"0\"\n",
    "    set_session(tf.compat.v1.Session(config=config))"
   ]
  },
  {
   "cell_type": "markdown",
   "metadata": {},
   "source": [
    "# Dataset"
   ]
  },
  {
   "cell_type": "code",
   "execution_count": 4,
   "metadata": {},
   "outputs": [],
   "source": [
    "DATASET_DIR = 'dataset'\n",
    "TRAIN_DIR = os.path.join(DATASET_DIR, 'train')\n",
    "TEST_DIR = os.path.join(DATASET_DIR, 'test1')\n",
    "\n",
    "IMG_WIDTH = 64\n",
    "IMG_HEIGHT = 64\n",
    "IMG_SIZE = (IMG_WIDTH, IMG_HEIGHT)\n",
    "TEST_SIZE = 0.2\n",
    "EPOCHS = 10\n",
    "NUM_CATEGORIES = 2\n"
   ]
  },
  {
   "cell_type": "markdown",
   "metadata": {},
   "source": [
    "## Load train dataset"
   ]
  },
  {
   "cell_type": "code",
   "execution_count": null,
   "metadata": {},
   "outputs": [],
   "source": [
    "train_images = []\n",
    "train_labels = []\n",
    "for image_name in tqdm(os.listdir(TRAIN_DIR)):\n",
    "    img = cv2.imread(os.path.join(TRAIN_DIR, image_name))\n",
    "    if img is None:\n",
    "        print(\"Fail to load {}\".format(image_name))\n",
    "        continue\n",
    "    # img = img/255\n",
    "    try:\n",
    "        img = cv2.resize(img, dsize=IMG_SIZE)\n",
    "    except:\n",
    "        print(\"Fail to load {}\".format(image_name))\n",
    "\n",
    "    train_images.append(img)\n",
    "    if 'cat' in image_name:\n",
    "        train_labels.append(0)\n",
    "    else:\n",
    "        train_labels.append(1)\n",
    "\n",
    "train_labels = tf.keras.utils.to_categorical(train_labels)\n",
    "# train_images = np.array(train_images)\n",
    "# train_labels = np.array(train_labels)\n",
    "np.save('train_images', train_images)\n",
    "np.save('train_labels', train_labels)"
   ]
  },
  {
   "cell_type": "code",
   "execution_count": 10,
   "metadata": {},
   "outputs": [],
   "source": [
    "train_images = np.load('train_images.npy')\n",
    "train_labels = np.load('train_labels.npy')\n",
    "train_images = np.array(train_images)\n",
    "train_labels = np.array(train_labels)"
   ]
  },
  {
   "cell_type": "code",
   "execution_count": 11,
   "metadata": {},
   "outputs": [],
   "source": [
    "\n",
    "train_images = train_images / 255\n",
    "X_train, X_test, y_train, y_test = train_test_split(\n",
    "    train_images,\n",
    "    train_labels,\n",
    "    test_size=TEST_SIZE,\n",
    "    random_state=63,\n",
    "    shuffle=True,\n",
    ")"
   ]
  },
  {
   "cell_type": "code",
   "execution_count": 12,
   "metadata": {},
   "outputs": [
    {
     "name": "stdout",
     "output_type": "stream",
     "text": [
      "[1. 0.]\n",
      "[0. 1.]\n",
      "[1. 0.]\n",
      "[1. 0.]\n",
      "[1. 0.]\n"
     ]
    }
   ],
   "source": [
    "for i in range(5):\n",
    "    cv2.imshow('', X_train[i])\n",
    "    print(y_train[i])\n",
    "    cv2.waitKey(0)\n",
    "    cv2.destroyAllWindows()"
   ]
  },
  {
   "cell_type": "code",
   "execution_count": 13,
   "metadata": {},
   "outputs": [
    {
     "name": "stdout",
     "output_type": "stream",
     "text": [
      "(64, 64, 3)\n",
      "[[[0.5372549  0.5372549  0.5372549 ]\n",
      "  [0.53333333 0.52941176 0.52941176]\n",
      "  [0.5372549  0.55294118 0.55686275]\n",
      "  [0.4627451  0.50196078 0.50196078]\n",
      "  [0.42745098 0.45882353 0.45490196]\n",
      "  [0.42745098 0.45882353 0.45490196]\n",
      "  [0.42352941 0.43921569 0.44313725]\n",
      "  [0.56078431 0.55294118 0.56078431]\n",
      "  [0.4627451  0.47843137 0.48235294]\n",
      "  [0.42745098 0.44705882 0.44705882]\n",
      "  [0.43137255 0.44705882 0.45098039]\n",
      "  [0.45098039 0.46666667 0.47058824]\n",
      "  [0.43529412 0.4745098  0.4745098 ]\n",
      "  [0.43921569 0.43921569 0.44313725]\n",
      "  [0.46666667 0.48235294 0.47843137]\n",
      "  [0.4627451  0.48235294 0.47843137]\n",
      "  [0.46666667 0.48235294 0.48627451]\n",
      "  [0.44313725 0.45882353 0.4627451 ]\n",
      "  [0.45490196 0.47058824 0.4745098 ]\n",
      "  [0.58039216 0.61568627 0.61568627]\n",
      "  [0.57647059 0.55686275 0.55294118]\n",
      "  [0.56470588 0.58823529 0.61176471]\n",
      "  [0.48627451 0.50196078 0.50588235]\n",
      "  [0.43921569 0.45490196 0.45882353]\n",
      "  [0.45882353 0.4745098  0.47843137]\n",
      "  [0.45098039 0.46666667 0.47058824]\n",
      "  [0.44705882 0.45882353 0.4627451 ]\n",
      "  [0.4627451  0.47058824 0.47058824]\n",
      "  [0.43529412 0.45882353 0.45490196]\n",
      "  [0.42745098 0.44705882 0.44313725]\n",
      "  [0.41176471 0.43137255 0.42745098]\n",
      "  [0.34509804 0.34509804 0.34509804]\n",
      "  [0.36078431 0.36078431 0.36078431]\n",
      "  [0.43529412 0.41960784 0.40392157]\n",
      "  [0.48235294 0.47843137 0.4627451 ]\n",
      "  [0.67058824 0.64313725 0.64705882]\n",
      "  [0.8627451  0.84313725 0.84705882]\n",
      "  [0.92156863 0.88627451 0.89411765]\n",
      "  [0.85098039 0.81960784 0.82352941]\n",
      "  [0.70980392 0.69019608 0.67843137]\n",
      "  [0.61568627 0.56862745 0.56078431]\n",
      "  [0.54117647 0.51764706 0.5254902 ]\n",
      "  [0.45882353 0.43529412 0.44705882]\n",
      "  [0.49411765 0.45882353 0.4627451 ]\n",
      "  [0.51372549 0.4745098  0.48235294]\n",
      "  [0.5372549  0.51764706 0.52156863]\n",
      "  [0.58039216 0.56078431 0.56470588]\n",
      "  [0.50980392 0.49019608 0.49411765]\n",
      "  [0.80784314 0.78823529 0.79215686]\n",
      "  [0.78039216 0.78431373 0.78431373]\n",
      "  [0.82352941 0.82745098 0.82745098]\n",
      "  [0.85098039 0.84705882 0.84705882]\n",
      "  [0.85098039 0.84705882 0.84705882]\n",
      "  [0.85098039 0.83529412 0.83529412]\n",
      "  [0.87058824 0.83921569 0.84313725]\n",
      "  [0.78431373 0.80392157 0.8       ]\n",
      "  [0.78039216 0.8        0.79607843]\n",
      "  [0.81568627 0.81176471 0.80784314]\n",
      "  [0.49019608 0.4745098  0.47058824]\n",
      "  [0.83921569 0.85098039 0.83921569]\n",
      "  [0.81568627 0.85882353 0.83529412]\n",
      "  [0.82745098 0.85098039 0.83529412]\n",
      "  [0.79215686 0.76862745 0.77254902]\n",
      "  [0.76078431 0.7372549  0.7372549 ]]\n",
      "\n",
      " [[0.49019608 0.50196078 0.50196078]\n",
      "  [0.51764706 0.52941176 0.52941176]\n",
      "  [0.51372549 0.52941176 0.53333333]\n",
      "  [0.36862745 0.41176471 0.41176471]\n",
      "  [0.35686275 0.38431373 0.4       ]\n",
      "  [0.37254902 0.39607843 0.40784314]\n",
      "  [0.37254902 0.40392157 0.40392157]\n",
      "  [0.43921569 0.45098039 0.45490196]\n",
      "  [0.39215686 0.42352941 0.42352941]\n",
      "  [0.39215686 0.42352941 0.42352941]\n",
      "  [0.43137255 0.4627451  0.4627451 ]\n",
      "  [0.44705882 0.47843137 0.47843137]\n",
      "  [0.42352941 0.47843137 0.4745098 ]\n",
      "  [0.41176471 0.42745098 0.43137255]\n",
      "  [0.4745098  0.48627451 0.48627451]\n",
      "  [0.49803922 0.51764706 0.51372549]\n",
      "  [0.45882353 0.4745098  0.47843137]\n",
      "  [0.47058824 0.48627451 0.49019608]\n",
      "  [0.44313725 0.4627451  0.46666667]\n",
      "  [0.42745098 0.4627451  0.4627451 ]\n",
      "  [0.49411765 0.47843137 0.4745098 ]\n",
      "  [0.43921569 0.4627451  0.48627451]\n",
      "  [0.44705882 0.4627451  0.46666667]\n",
      "  [0.49019608 0.50588235 0.50980392]\n",
      "  [0.44313725 0.45882353 0.4627451 ]\n",
      "  [0.38039216 0.39607843 0.4       ]\n",
      "  [0.36470588 0.38039216 0.38431373]\n",
      "  [0.35686275 0.36470588 0.36470588]\n",
      "  [0.3254902  0.34901961 0.34509804]\n",
      "  [0.30588235 0.3254902  0.32156863]\n",
      "  [0.40784314 0.42745098 0.42352941]\n",
      "  [0.36470588 0.38431373 0.38039216]\n",
      "  [0.38039216 0.4        0.39607843]\n",
      "  [0.53333333 0.5254902  0.5254902 ]\n",
      "  [0.40392157 0.40784314 0.40784314]\n",
      "  [0.43529412 0.46666667 0.4627451 ]\n",
      "  [0.45882353 0.49019608 0.48627451]\n",
      "  [0.47058824 0.49411765 0.49019608]\n",
      "  [0.48627451 0.50980392 0.50588235]\n",
      "  [0.49803922 0.50588235 0.50588235]\n",
      "  [0.5372549  0.52156863 0.5254902 ]\n",
      "  [0.48627451 0.47843137 0.48627451]\n",
      "  [0.46666667 0.4627451  0.46666667]\n",
      "  [0.4745098  0.4627451  0.46666667]\n",
      "  [0.48235294 0.47058824 0.47058824]\n",
      "  [0.55294118 0.52941176 0.53333333]\n",
      "  [0.67058824 0.64705882 0.65098039]\n",
      "  [0.89019608 0.85098039 0.85882353]\n",
      "  [0.95686275 0.9372549  0.94509804]\n",
      "  [1.         0.95686275 0.96470588]\n",
      "  [0.89803922 0.85490196 0.8627451 ]\n",
      "  [0.74901961 0.69411765 0.70196078]\n",
      "  [0.67843137 0.61960784 0.62745098]\n",
      "  [0.66666667 0.63137255 0.63921569]\n",
      "  [0.77254902 0.72156863 0.72941176]\n",
      "  [0.79215686 0.76862745 0.77254902]\n",
      "  [0.83137255 0.80392157 0.80784314]\n",
      "  [0.80784314 0.77647059 0.77647059]\n",
      "  [0.56862745 0.5372549  0.5372549 ]\n",
      "  [0.8745098  0.87058824 0.86666667]\n",
      "  [0.82745098 0.86666667 0.8627451 ]\n",
      "  [0.8627451  0.88627451 0.88235294]\n",
      "  [0.78823529 0.78431373 0.78431373]\n",
      "  [0.75686275 0.75686275 0.75686275]]\n",
      "\n",
      " [[0.43921569 0.4627451  0.45882353]\n",
      "  [0.44313725 0.46666667 0.4627451 ]\n",
      "  [0.49019608 0.50588235 0.50980392]\n",
      "  [0.51764706 0.55686275 0.55686275]\n",
      "  [0.61960784 0.64313725 0.6627451 ]\n",
      "  [0.61568627 0.63921569 0.65882353]\n",
      "  [0.57254902 0.61176471 0.61568627]\n",
      "  [0.37254902 0.39215686 0.39607843]\n",
      "  [0.50196078 0.54509804 0.54901961]\n",
      "  [0.43529412 0.48235294 0.48235294]\n",
      "  [0.45098039 0.49411765 0.49803922]\n",
      "  [0.42352941 0.46666667 0.46666667]\n",
      "  [0.38823529 0.45098039 0.44313725]\n",
      "  [0.4        0.41960784 0.42352941]\n",
      "  [0.35294118 0.36862745 0.36862745]\n",
      "  [0.27058824 0.29019608 0.28627451]\n",
      "  [0.35686275 0.37647059 0.37647059]\n",
      "  [0.38823529 0.40392157 0.40784314]\n",
      "  [0.41960784 0.43137255 0.43921569]\n",
      "  [0.41568627 0.45098039 0.45098039]\n",
      "  [0.43529412 0.41960784 0.41568627]\n",
      "  [0.42352941 0.45098039 0.47058824]\n",
      "  [0.42745098 0.44313725 0.44705882]\n",
      "  [0.44313725 0.45882353 0.4627451 ]\n",
      "  [0.48627451 0.50588235 0.50980392]\n",
      "  [0.47843137 0.49411765 0.50196078]\n",
      "  [0.43529412 0.45098039 0.45490196]\n",
      "  [0.47058824 0.47843137 0.47843137]\n",
      "  [0.43921569 0.4627451  0.45882353]\n",
      "  [0.45098039 0.47058824 0.46666667]\n",
      "  [0.4627451  0.48235294 0.47843137]\n",
      "  [0.46666667 0.49019608 0.48627451]\n",
      "  [0.45882353 0.48235294 0.47843137]\n",
      "  [0.52156863 0.5254902  0.54117647]\n",
      "  [0.45490196 0.47058824 0.48627451]\n",
      "  [0.45490196 0.4745098  0.4745098 ]\n",
      "  [0.47843137 0.50196078 0.49803922]\n",
      "  [0.49019608 0.50980392 0.50588235]\n",
      "  [0.49019608 0.50980392 0.50588235]\n",
      "  [0.48627451 0.51372549 0.5254902 ]\n",
      "  [0.44313725 0.44705882 0.4627451 ]\n",
      "  [0.48627451 0.50588235 0.50588235]\n",
      "  [0.47058824 0.49019608 0.49411765]\n",
      "  [0.49411765 0.50980392 0.50980392]\n",
      "  [0.50588235 0.52156863 0.51764706]\n",
      "  [0.51372549 0.5372549  0.53333333]\n",
      "  [0.50588235 0.5254902  0.51764706]\n",
      "  [0.54901961 0.54509804 0.54509804]\n",
      "  [0.70980392 0.70588235 0.70588235]\n",
      "  [0.76862745 0.77647059 0.77647059]\n",
      "  [0.81176471 0.81960784 0.81960784]\n",
      "  [0.83921569 0.83921569 0.83921569]\n",
      "  [0.8627451  0.8627451  0.8627451 ]\n",
      "  [0.74117647 0.70196078 0.70980392]\n",
      "  [0.76078431 0.69803922 0.70980392]\n",
      "  [0.69019608 0.63529412 0.64705882]\n",
      "  [0.77647059 0.71372549 0.72156863]\n",
      "  [0.83529412 0.78431373 0.78823529]\n",
      "  [0.65098039 0.60392157 0.60392157]\n",
      "  [1.         0.96862745 0.97647059]\n",
      "  [1.         0.98431373 0.99607843]\n",
      "  [0.96470588 0.92941176 0.94117647]\n",
      "  [0.89019608 0.85490196 0.85882353]\n",
      "  [0.89803922 0.8627451  0.86666667]]\n",
      "\n",
      " [[0.55686275 0.56862745 0.56470588]\n",
      "  [0.54901961 0.55686275 0.55686275]\n",
      "  [0.5372549  0.54901961 0.56862745]\n",
      "  [0.57254902 0.58431373 0.60392157]\n",
      "  [0.61568627 0.63137255 0.65098039]\n",
      "  [0.50980392 0.55294118 0.56862745]\n",
      "  [0.56862745 0.6        0.62745098]\n",
      "  [0.40784314 0.40392157 0.41176471]\n",
      "  [0.63921569 0.65098039 0.67058824]\n",
      "  [0.57254902 0.58431373 0.60392157]\n",
      "  [0.6627451  0.6745098  0.69411765]\n",
      "  [0.69019608 0.70196078 0.72156863]\n",
      "  [0.65490196 0.69019608 0.70588235]\n",
      "  [0.50588235 0.51764706 0.5372549 ]\n",
      "  [0.30588235 0.30196078 0.29019608]\n",
      "  [0.54509804 0.56078431 0.55294118]\n",
      "  [0.31764706 0.32941176 0.32156863]\n",
      "  [0.48235294 0.49411765 0.50980392]\n",
      "  [0.59607843 0.61568627 0.62745098]\n",
      "  [0.55294118 0.6        0.6       ]\n",
      "  [0.41176471 0.41568627 0.41176471]\n",
      "  [0.41960784 0.47058824 0.4627451 ]\n",
      "  [0.41960784 0.44705882 0.45882353]\n",
      "  [0.41960784 0.45882353 0.45882353]\n",
      "  [0.41176471 0.44705882 0.44705882]\n",
      "  [0.43137255 0.44705882 0.45098039]\n",
      "  [0.43529412 0.44705882 0.45098039]\n",
      "  [0.42352941 0.42352941 0.42352941]\n",
      "  [0.40784314 0.43921569 0.45098039]\n",
      "  [0.42352941 0.44313725 0.43921569]\n",
      "  [0.43137255 0.45098039 0.44705882]\n",
      "  [0.43921569 0.45882353 0.45490196]\n",
      "  [0.44313725 0.4627451  0.45882353]\n",
      "  [0.61568627 0.63137255 0.63529412]\n",
      "  [0.43921569 0.4627451  0.46666667]\n",
      "  [0.43529412 0.45098039 0.45490196]\n",
      "  [0.48235294 0.49803922 0.50196078]\n",
      "  [0.49411765 0.50980392 0.51372549]\n",
      "  [0.49803922 0.51372549 0.51764706]\n",
      "  [0.49411765 0.51372549 0.51764706]\n",
      "  [0.44705882 0.44313725 0.45098039]\n",
      "  [0.48235294 0.49803922 0.50196078]\n",
      "  [0.4745098  0.49019608 0.49411765]\n",
      "  [0.50196078 0.51764706 0.52156863]\n",
      "  [0.50588235 0.52156863 0.5254902 ]\n",
      "  [0.50196078 0.53333333 0.53333333]\n",
      "  [0.50196078 0.50980392 0.51372549]\n",
      "  [0.52156863 0.51764706 0.5254902 ]\n",
      "  [0.58431373 0.60392157 0.60784314]\n",
      "  [0.78431373 0.78431373 0.78431373]\n",
      "  [0.83137255 0.83137255 0.83137255]\n",
      "  [0.86666667 0.85882353 0.85882353]\n",
      "  [0.87058824 0.8627451  0.8627451 ]\n",
      "  [0.68235294 0.65490196 0.6745098 ]\n",
      "  [0.86666667 0.8627451  0.84705882]\n",
      "  [0.80392157 0.8        0.80784314]\n",
      "  [0.82745098 0.82745098 0.82745098]\n",
      "  [0.63529412 0.61960784 0.62352941]\n",
      "  [0.73333333 0.69019608 0.66666667]\n",
      "  [0.82745098 0.81960784 0.82352941]\n",
      "  [0.79607843 0.80392157 0.80392157]\n",
      "  [0.76470588 0.75686275 0.75686275]\n",
      "  [0.79215686 0.76078431 0.76470588]\n",
      "  [0.84313725 0.80392157 0.81176471]]\n",
      "\n",
      " [[0.54509804 0.55686275 0.55686275]\n",
      "  [0.52941176 0.5372549  0.5372549 ]\n",
      "  [0.57254902 0.58431373 0.60392157]\n",
      "  [0.57254902 0.58431373 0.60392157]\n",
      "  [0.55686275 0.57254902 0.59215686]\n",
      "  [0.54117647 0.58431373 0.6       ]\n",
      "  [0.61176471 0.64313725 0.67058824]\n",
      "  [0.35686275 0.35294118 0.36078431]\n",
      "  [0.63921569 0.65490196 0.6745098 ]\n",
      "  [0.57254902 0.58431373 0.60392157]\n",
      "  [0.65490196 0.66666667 0.69019608]\n",
      "  [0.68627451 0.69803922 0.71764706]\n",
      "  [0.63529412 0.69019608 0.70196078]\n",
      "  [0.48235294 0.48235294 0.50588235]\n",
      "  [0.32941176 0.34117647 0.3372549 ]\n",
      "  [0.47843137 0.50196078 0.50588235]\n",
      "  [0.48627451 0.49019608 0.49019608]\n",
      "  [0.34509804 0.34901961 0.36470588]\n",
      "  [0.69411765 0.71372549 0.7254902 ]\n",
      "  [0.65882353 0.70588235 0.70588235]\n",
      "  [0.4745098  0.4745098  0.47843137]\n",
      "  [0.6        0.64705882 0.65490196]\n",
      "  [0.58823529 0.61176471 0.63921569]\n",
      "  [0.6627451  0.69411765 0.72156863]\n",
      "  [0.67058824 0.69803922 0.7254902 ]\n",
      "  [0.67843137 0.68627451 0.71764706]\n",
      "  [0.60784314 0.61568627 0.64313725]\n",
      "  [0.6745098  0.67058824 0.68235294]\n",
      "  [0.55294118 0.58039216 0.60784314]\n",
      "  [0.59607843 0.60784314 0.62352941]\n",
      "  [0.59607843 0.60784314 0.62352941]\n",
      "  [0.51372549 0.5254902  0.54117647]\n",
      "  [0.4745098  0.48627451 0.50196078]\n",
      "  [0.58431373 0.6        0.60392157]\n",
      "  [0.38039216 0.40784314 0.40784314]\n",
      "  [0.36862745 0.38039216 0.38823529]\n",
      "  [0.37254902 0.38431373 0.39215686]\n",
      "  [0.40392157 0.41960784 0.42352941]\n",
      "  [0.41568627 0.43137255 0.43137255]\n",
      "  [0.44313725 0.45882353 0.46666667]\n",
      "  [0.43529412 0.43137255 0.43921569]\n",
      "  [0.43921569 0.45490196 0.45882353]\n",
      "  [0.45490196 0.47058824 0.4745098 ]\n",
      "  [0.47843137 0.49411765 0.49803922]\n",
      "  [0.48627451 0.50196078 0.50980392]\n",
      "  [0.48235294 0.51372549 0.51372549]\n",
      "  [0.49019608 0.49411765 0.50196078]\n",
      "  [0.6        0.59607843 0.60392157]\n",
      "  [0.51764706 0.5372549  0.54117647]\n",
      "  [0.78039216 0.78039216 0.78039216]\n",
      "  [0.84705882 0.84705882 0.84705882]\n",
      "  [0.8745098  0.86666667 0.86666667]\n",
      "  [0.8745098  0.86666667 0.86666667]\n",
      "  [0.60392157 0.57647059 0.59607843]\n",
      "  [0.86666667 0.85882353 0.84313725]\n",
      "  [0.80784314 0.80392157 0.81176471]\n",
      "  [0.79607843 0.79607843 0.79607843]\n",
      "  [0.56078431 0.54509804 0.55294118]\n",
      "  [0.74117647 0.72156863 0.69411765]\n",
      "  [0.76470588 0.76470588 0.76862745]\n",
      "  [0.65882353 0.62745098 0.63137255]\n",
      "  [0.56470588 0.5372549  0.54117647]\n",
      "  [0.57254902 0.56470588 0.56470588]\n",
      "  [0.72156863 0.71372549 0.71372549]]]\n",
      "[[1. 0.]\n",
      " [0. 1.]\n",
      " [1. 0.]\n",
      " [1. 0.]\n",
      " [1. 0.]]\n"
     ]
    }
   ],
   "source": [
    "print(X_train[0].shape)\n",
    "print(X_train[0][:5])\n",
    "print(y_train[:5])"
   ]
  },
  {
   "cell_type": "markdown",
   "metadata": {},
   "source": [
    "# Model structure"
   ]
  },
  {
   "cell_type": "code",
   "execution_count": 14,
   "metadata": {},
   "outputs": [],
   "source": [
    "def get_model():\n",
    "    model = tf.keras.models.Sequential()\n",
    "        \n",
    "    model.add(tf.keras.layers.Conv2D(64, (3, 3), activation='relu', input_shape=(IMG_WIDTH, IMG_HEIGHT, 3)))\n",
    "    model.add(tf.keras.layers.MaxPooling2D(pool_size=(2, 2)))\n",
    "    model.add(tf.keras.layers.Dropout(0.25))\n",
    "\n",
    "    model.add(tf.keras.layers.Conv2D(64, (3, 3), activation='relu'))\n",
    "    model.add(tf.keras.layers.MaxPooling2D(pool_size=(2, 2)))\n",
    "    model.add(tf.keras.layers.Dropout(0.25))\n",
    "\n",
    "    model.add(tf.keras.layers.Conv2D(64, (3, 3), activation='relu'))\n",
    "    model.add(tf.keras.layers.MaxPooling2D(pool_size=(2, 2)))\n",
    "    model.add(tf.keras.layers.Dropout(0.25))\n",
    "\n",
    "    \n",
    "    model.add(tf.keras.layers.Flatten())\n",
    "\n",
    "    model.add(tf.keras.layers.Dense(units=512, activation='relu'))\n",
    "    model.add(tf.keras.layers.Dense(units=256, activation='relu'))\n",
    "    model.add(tf.keras.layers.Dense(units=128, activation='relu'))\n",
    "    model.add(tf.keras.layers.Dropout(0.5))\n",
    "\n",
    "    model.add(tf.keras.layers.Dense(2, activation='softmax'))\n",
    "\n",
    "    model.compile(\n",
    "        optimizer=tf.keras.optimizers.SGD(learning_rate=0.01, momentum=0.9),\n",
    "        loss=tf.keras.losses.CategoricalCrossentropy(),\n",
    "        metrics=['accuracy']\n",
    "    )\n",
    "    \n",
    "    # model.summary()\n",
    "\n",
    "    return model"
   ]
  },
  {
   "cell_type": "code",
   "execution_count": 10,
   "metadata": {},
   "outputs": [
    {
     "name": "stdout",
     "output_type": "stream",
     "text": [
      "GPU found\n"
     ]
    }
   ],
   "source": [
    "# Disable GPU\n",
    "# tf.config.set_visible_devices([], 'GPU')\n",
    "\n",
    "if tf.test.gpu_device_name():\n",
    "    print('GPU found')\n",
    "else:\n",
    "    print(\"No GPU found\")"
   ]
  },
  {
   "cell_type": "markdown",
   "metadata": {},
   "source": [
    "# Training"
   ]
  },
  {
   "cell_type": "markdown",
   "metadata": {},
   "source": [
    "## Load pre-trained model or Initialize new model"
   ]
  },
  {
   "cell_type": "markdown",
   "metadata": {},
   "source": [
    "### Load pretrained-model"
   ]
  },
  {
   "cell_type": "code",
   "execution_count": null,
   "metadata": {},
   "outputs": [],
   "source": [
    "MODEL_PATH = 'CNN_0.81.h5'\n",
    "model = tf.keras.models.load_model(MODEL_PATH)\n",
    "# model.compile(\n",
    "#     optimizer=tf.keras.optimizers.SGD(learning_rate=0.001),\n",
    "#     loss=tf.keras.losses.CategoricalCrossentropy(),\n",
    "#     metrics=['accuracy']\n",
    "# )"
   ]
  },
  {
   "cell_type": "markdown",
   "metadata": {},
   "source": [
    "### Initialize new model"
   ]
  },
  {
   "cell_type": "code",
   "execution_count": 15,
   "metadata": {},
   "outputs": [
    {
     "name": "stdout",
     "output_type": "stream",
     "text": [
      "Model: \"sequential\"\n",
      "_________________________________________________________________\n",
      "Layer (type)                 Output Shape              Param #   \n",
      "=================================================================\n",
      "conv2d (Conv2D)              (None, 62, 62, 64)        1792      \n",
      "_________________________________________________________________\n",
      "max_pooling2d (MaxPooling2D) (None, 31, 31, 64)        0         \n",
      "_________________________________________________________________\n",
      "dropout (Dropout)            (None, 31, 31, 64)        0         \n",
      "_________________________________________________________________\n",
      "conv2d_1 (Conv2D)            (None, 29, 29, 64)        36928     \n",
      "_________________________________________________________________\n",
      "max_pooling2d_1 (MaxPooling2 (None, 14, 14, 64)        0         \n",
      "_________________________________________________________________\n",
      "dropout_1 (Dropout)          (None, 14, 14, 64)        0         \n",
      "_________________________________________________________________\n",
      "conv2d_2 (Conv2D)            (None, 12, 12, 64)        36928     \n",
      "_________________________________________________________________\n",
      "max_pooling2d_2 (MaxPooling2 (None, 6, 6, 64)          0         \n",
      "_________________________________________________________________\n",
      "dropout_2 (Dropout)          (None, 6, 6, 64)          0         \n",
      "_________________________________________________________________\n",
      "flatten (Flatten)            (None, 2304)              0         \n",
      "_________________________________________________________________\n",
      "dense (Dense)                (None, 512)               1180160   \n",
      "_________________________________________________________________\n",
      "dropout_3 (Dropout)          (None, 512)               0         \n",
      "_________________________________________________________________\n",
      "dense_1 (Dense)              (None, 2)                 1026      \n",
      "=================================================================\n",
      "Total params: 1,256,834\n",
      "Trainable params: 1,256,834\n",
      "Non-trainable params: 0\n",
      "_________________________________________________________________\n"
     ]
    }
   ],
   "source": [
    "model = get_model()\n",
    "model.summary()"
   ]
  },
  {
   "cell_type": "markdown",
   "metadata": {},
   "source": [
    "## Train model"
   ]
  },
  {
   "cell_type": "code",
   "execution_count": 16,
   "metadata": {},
   "outputs": [
    {
     "name": "stdout",
     "output_type": "stream",
     "text": [
      "Epoch 1/50\n",
      "563/563 [==============================] - 13s 15ms/step - loss: 0.6830 - accuracy: 0.5514 - val_loss: 0.6500 - val_accuracy: 0.6210\n",
      "Epoch 2/50\n",
      "563/563 [==============================] - 8s 15ms/step - loss: 0.6417 - accuracy: 0.6234 - val_loss: 0.6262 - val_accuracy: 0.6505\n",
      "Epoch 3/50\n",
      "563/563 [==============================] - 8s 14ms/step - loss: 0.6201 - accuracy: 0.6535 - val_loss: 0.6069 - val_accuracy: 0.6935\n",
      "Epoch 4/50\n",
      "563/563 [==============================] - 8s 14ms/step - loss: 0.5977 - accuracy: 0.6745 - val_loss: 0.5716 - val_accuracy: 0.6990\n",
      "Epoch 5/50\n",
      "563/563 [==============================] - 8s 14ms/step - loss: 0.5659 - accuracy: 0.7068 - val_loss: 0.5685 - val_accuracy: 0.6985\n",
      "Epoch 6/50\n",
      "563/563 [==============================] - 8s 14ms/step - loss: 0.5328 - accuracy: 0.7307 - val_loss: 0.5810 - val_accuracy: 0.6880\n",
      "Epoch 7/50\n",
      "563/563 [==============================] - 8s 15ms/step - loss: 0.5133 - accuracy: 0.7456 - val_loss: 0.6158 - val_accuracy: 0.6650\n",
      "Epoch 8/50\n",
      "563/563 [==============================] - 8s 15ms/step - loss: 0.4958 - accuracy: 0.7549 - val_loss: 0.5040 - val_accuracy: 0.7560\n",
      "Epoch 9/50\n",
      "563/563 [==============================] - 8s 14ms/step - loss: 0.4737 - accuracy: 0.7723 - val_loss: 0.4904 - val_accuracy: 0.7620\n",
      "Epoch 10/50\n",
      "563/563 [==============================] - 8s 14ms/step - loss: 0.4589 - accuracy: 0.7816 - val_loss: 0.5034 - val_accuracy: 0.7585\n",
      "Epoch 11/50\n",
      "563/563 [==============================] - 8s 14ms/step - loss: 0.4415 - accuracy: 0.7904 - val_loss: 0.4681 - val_accuracy: 0.7725\n",
      "Epoch 12/50\n",
      "563/563 [==============================] - 8s 14ms/step - loss: 0.4234 - accuracy: 0.8037 - val_loss: 0.4618 - val_accuracy: 0.7785\n",
      "Epoch 13/50\n",
      "563/563 [==============================] - 8s 14ms/step - loss: 0.4128 - accuracy: 0.8114 - val_loss: 0.4485 - val_accuracy: 0.7970\n",
      "Epoch 14/50\n",
      "563/563 [==============================] - 8s 14ms/step - loss: 0.3976 - accuracy: 0.8177 - val_loss: 0.4061 - val_accuracy: 0.8160\n",
      "Epoch 15/50\n",
      "563/563 [==============================] - 8s 14ms/step - loss: 0.3905 - accuracy: 0.8226 - val_loss: 0.4426 - val_accuracy: 0.7880\n",
      "Epoch 16/50\n",
      "563/563 [==============================] - 8s 14ms/step - loss: 0.3688 - accuracy: 0.8333 - val_loss: 0.4014 - val_accuracy: 0.8155\n",
      "Epoch 17/50\n",
      "563/563 [==============================] - 8s 14ms/step - loss: 0.3560 - accuracy: 0.8423 - val_loss: 0.3723 - val_accuracy: 0.8365\n",
      "Epoch 18/50\n",
      "563/563 [==============================] - 8s 14ms/step - loss: 0.3454 - accuracy: 0.8431 - val_loss: 0.4027 - val_accuracy: 0.8155\n",
      "Epoch 19/50\n",
      "563/563 [==============================] - 8s 14ms/step - loss: 0.3343 - accuracy: 0.8513 - val_loss: 0.3758 - val_accuracy: 0.8355\n",
      "Epoch 20/50\n",
      "563/563 [==============================] - 8s 14ms/step - loss: 0.3265 - accuracy: 0.8553 - val_loss: 0.3782 - val_accuracy: 0.8310\n",
      "Epoch 21/50\n",
      "563/563 [==============================] - 8s 13ms/step - loss: 0.3125 - accuracy: 0.8621 - val_loss: 0.3602 - val_accuracy: 0.8415\n",
      "Epoch 22/50\n",
      "563/563 [==============================] - 8s 14ms/step - loss: 0.3006 - accuracy: 0.8698 - val_loss: 0.3367 - val_accuracy: 0.8540\n",
      "Epoch 23/50\n",
      "563/563 [==============================] - 8s 14ms/step - loss: 0.2950 - accuracy: 0.8745 - val_loss: 0.3395 - val_accuracy: 0.8520\n",
      "Epoch 24/50\n",
      "563/563 [==============================] - 8s 14ms/step - loss: 0.2912 - accuracy: 0.8750 - val_loss: 0.3583 - val_accuracy: 0.8500\n",
      "Epoch 25/50\n",
      "563/563 [==============================] - 8s 14ms/step - loss: 0.2774 - accuracy: 0.8813 - val_loss: 0.3404 - val_accuracy: 0.8490\n",
      "Epoch 26/50\n",
      "563/563 [==============================] - 8s 13ms/step - loss: 0.2696 - accuracy: 0.8840 - val_loss: 0.3437 - val_accuracy: 0.8560\n",
      "Epoch 27/50\n",
      "563/563 [==============================] - 8s 13ms/step - loss: 0.2542 - accuracy: 0.8879 - val_loss: 0.3621 - val_accuracy: 0.8505\n"
     ]
    },
    {
     "data": {
      "image/png": "[encoded data removed]",
      "text/plain": [
       "<Figure size 432x288 with 2 Axes>"
      ]
     },
     "metadata": {
      "needs_background": "light"
     },
     "output_type": "display_data"
    },
    {
     "name": "stdout",
     "output_type": "stream",
     "text": [
      "7059\n"
     ]
    }
   ],
   "source": [
    "callback = tf.keras.callbacks.EarlyStopping(monitor='val_loss', patience=5)\n",
    "history = model.fit(X_train, y_train, validation_split=0.1, epochs=50, callbacks=[callback])\n",
    "model.save('temp.h5')\n",
    "summarize_diagnostics(history, 'temp')\n",
    "reset_keras(model)"
   ]
  },
  {
   "cell_type": "code",
   "execution_count": 19,
   "metadata": {},
   "outputs": [
    {
     "name": "stdout",
     "output_type": "stream",
     "text": [
      "Epoch 1/20\n",
      "563/563 [==============================] - 9s 14ms/step - loss: 0.2109 - accuracy: 0.9131 - val_loss: 0.3222 - val_accuracy: 0.8690\n",
      "Epoch 2/20\n",
      "563/563 [==============================] - 8s 14ms/step - loss: 0.1912 - accuracy: 0.9223 - val_loss: 0.3248 - val_accuracy: 0.8690\n",
      "Epoch 3/20\n",
      "563/563 [==============================] - 8s 14ms/step - loss: 0.1887 - accuracy: 0.9246 - val_loss: 0.3212 - val_accuracy: 0.8700\n",
      "Epoch 4/20\n",
      "563/563 [==============================] - 8s 14ms/step - loss: 0.1812 - accuracy: 0.9239 - val_loss: 0.3225 - val_accuracy: 0.8705\n",
      "Epoch 5/20\n",
      "563/563 [==============================] - 8s 14ms/step - loss: 0.1766 - accuracy: 0.9272 - val_loss: 0.3268 - val_accuracy: 0.8690\n",
      "Epoch 6/20\n",
      "563/563 [==============================] - 8s 14ms/step - loss: 0.1729 - accuracy: 0.9307 - val_loss: 0.3285 - val_accuracy: 0.8680\n",
      "Epoch 7/20\n",
      "563/563 [==============================] - 8s 14ms/step - loss: 0.1744 - accuracy: 0.9282 - val_loss: 0.3250 - val_accuracy: 0.8750\n",
      "Epoch 8/20\n",
      "563/563 [==============================] - 8s 14ms/step - loss: 0.1643 - accuracy: 0.9328 - val_loss: 0.3259 - val_accuracy: 0.8695\n",
      "Epoch 9/20\n",
      "563/563 [==============================] - 9s 16ms/step - loss: 0.1654 - accuracy: 0.9327 - val_loss: 0.3264 - val_accuracy: 0.8645\n",
      "Epoch 10/20\n",
      "563/563 [==============================] - 18s 32ms/step - loss: 0.1663 - accuracy: 0.9333 - val_loss: 0.3326 - val_accuracy: 0.8685\n",
      "Epoch 11/20\n",
      "563/563 [==============================] - 61s 108ms/step - loss: 0.1602 - accuracy: 0.9319 - val_loss: 0.3266 - val_accuracy: 0.8685\n",
      "Epoch 12/20\n",
      "563/563 [==============================] - 61s 109ms/step - loss: 0.1584 - accuracy: 0.9377 - val_loss: 0.3252 - val_accuracy: 0.8685\n",
      "Epoch 13/20\n",
      "563/563 [==============================] - 61s 108ms/step - loss: 0.1550 - accuracy: 0.9372 - val_loss: 0.3246 - val_accuracy: 0.8750\n",
      "Epoch 14/20\n",
      "563/563 [==============================] - 61s 108ms/step - loss: 0.1538 - accuracy: 0.9371 - val_loss: 0.3315 - val_accuracy: 0.8695\n",
      "Epoch 15/20\n",
      "563/563 [==============================] - 62s 110ms/step - loss: 0.1565 - accuracy: 0.9352 - val_loss: 0.3291 - val_accuracy: 0.8700\n",
      "Epoch 16/20\n",
      "563/563 [==============================] - 62s 110ms/step - loss: 0.1484 - accuracy: 0.9383 - val_loss: 0.3254 - val_accuracy: 0.8670\n",
      "Epoch 17/20\n",
      "563/563 [==============================] - 62s 110ms/step - loss: 0.1493 - accuracy: 0.9382 - val_loss: 0.3267 - val_accuracy: 0.8715\n",
      "Epoch 18/20\n",
      "563/563 [==============================] - 62s 110ms/step - loss: 0.1485 - accuracy: 0.9398 - val_loss: 0.3276 - val_accuracy: 0.8730\n",
      "Epoch 19/20\n",
      "563/563 [==============================] - 62s 110ms/step - loss: 0.1450 - accuracy: 0.9406 - val_loss: 0.3243 - val_accuracy: 0.8735\n",
      "Epoch 20/20\n",
      "563/563 [==============================] - 62s 110ms/step - loss: 0.1409 - accuracy: 0.9419 - val_loss: 0.3266 - val_accuracy: 0.8775\n"
     ]
    },
    {
     "data": {
      "image/png": "[encoded data removed]",
      "text/plain": [
       "<Figure size 432x288 with 2 Axes>"
      ]
     },
     "metadata": {
      "needs_background": "light"
     },
     "output_type": "display_data"
    },
    {
     "name": "stdout",
     "output_type": "stream",
     "text": [
      "8287\n"
     ]
    }
   ],
   "source": [
    "CONTINUE_TRAINING_MODEL = 'temp.h5'\n",
    "model = tf.keras.models.load_model(CONTINUE_TRAINING_MODEL)\n",
    "model.compile(\n",
    "    optimizer=tf.keras.optimizers.SGD(learning_rate=0.001, momentum=0.9),\n",
    "    loss=tf.keras.losses.CategoricalCrossentropy(),\n",
    "    metrics=['accuracy']\n",
    ")\n",
    "callback = tf.keras.callbacks.EarlyStopping(monitor='val_accuracy', patience=5)\n",
    "history = model.fit(X_train, y_train, validation_split=0.1, epochs=20)\n",
    "model.save('temp2.h5')\n",
    "summarize_diagnostics(history, 'temp2')\n",
    "reset_keras(model)"
   ]
  },
  {
   "cell_type": "code",
   "execution_count": 18,
   "metadata": {},
   "outputs": [
    {
     "name": "stdout",
     "output_type": "stream",
     "text": [
      "Epoch 1/20\n",
      "563/563 [==============================] - 9s 15ms/step - loss: 0.1818 - accuracy: 0.9251 - val_loss: 0.3249 - val_accuracy: 0.8660\n",
      "Epoch 2/20\n",
      "563/563 [==============================] - 8s 14ms/step - loss: 0.1838 - accuracy: 0.9249 - val_loss: 0.3251 - val_accuracy: 0.8650\n",
      "Epoch 3/20\n",
      "563/563 [==============================] - 8s 14ms/step - loss: 0.1843 - accuracy: 0.9238 - val_loss: 0.3238 - val_accuracy: 0.8660\n",
      "Epoch 4/20\n",
      "563/563 [==============================] - 8s 14ms/step - loss: 0.1791 - accuracy: 0.9272 - val_loss: 0.3239 - val_accuracy: 0.8670\n",
      "Epoch 5/20\n",
      "563/563 [==============================] - 8s 14ms/step - loss: 0.1814 - accuracy: 0.9254 - val_loss: 0.3244 - val_accuracy: 0.8670\n",
      "Epoch 6/20\n",
      "563/563 [==============================] - 8s 14ms/step - loss: 0.1774 - accuracy: 0.9297 - val_loss: 0.3233 - val_accuracy: 0.8690\n",
      "Epoch 7/20\n",
      "563/563 [==============================] - 8s 14ms/step - loss: 0.1822 - accuracy: 0.9264 - val_loss: 0.3251 - val_accuracy: 0.8675\n",
      "Epoch 8/20\n",
      "563/563 [==============================] - 8s 14ms/step - loss: 0.1786 - accuracy: 0.9240 - val_loss: 0.3246 - val_accuracy: 0.8670\n",
      "Epoch 9/20\n",
      "563/563 [==============================] - 8s 14ms/step - loss: 0.1757 - accuracy: 0.9280 - val_loss: 0.3252 - val_accuracy: 0.8695\n",
      "Epoch 10/20\n",
      "563/563 [==============================] - 8s 14ms/step - loss: 0.1801 - accuracy: 0.9254 - val_loss: 0.3246 - val_accuracy: 0.8680\n",
      "Epoch 11/20\n",
      "563/563 [==============================] - 8s 14ms/step - loss: 0.1781 - accuracy: 0.9276 - val_loss: 0.3243 - val_accuracy: 0.8680\n",
      "Epoch 12/20\n",
      "563/563 [==============================] - 8s 14ms/step - loss: 0.1745 - accuracy: 0.9281 - val_loss: 0.3245 - val_accuracy: 0.8680\n",
      "Epoch 13/20\n",
      "563/563 [==============================] - 8s 14ms/step - loss: 0.1780 - accuracy: 0.9287 - val_loss: 0.3241 - val_accuracy: 0.8685\n",
      "Epoch 14/20\n",
      "563/563 [==============================] - 8s 14ms/step - loss: 0.1748 - accuracy: 0.9294 - val_loss: 0.3260 - val_accuracy: 0.8660\n",
      "Epoch 15/20\n",
      "563/563 [==============================] - 8s 14ms/step - loss: 0.1764 - accuracy: 0.9259 - val_loss: 0.3248 - val_accuracy: 0.8690\n",
      "Epoch 16/20\n",
      "563/563 [==============================] - 9s 16ms/step - loss: 0.1757 - accuracy: 0.9295 - val_loss: 0.3246 - val_accuracy: 0.8675\n",
      "Epoch 17/20\n",
      "563/563 [==============================] - 9s 15ms/step - loss: 0.1769 - accuracy: 0.9259 - val_loss: 0.3236 - val_accuracy: 0.8690\n",
      "Epoch 18/20\n",
      "563/563 [==============================] - 9s 16ms/step - loss: 0.1680 - accuracy: 0.9312 - val_loss: 0.3234 - val_accuracy: 0.8690\n",
      "Epoch 19/20\n",
      "563/563 [==============================] - 8s 15ms/step - loss: 0.1737 - accuracy: 0.9307 - val_loss: 0.3240 - val_accuracy: 0.8685\n",
      "Epoch 20/20\n",
      "563/563 [==============================] - 9s 15ms/step - loss: 0.1741 - accuracy: 0.9270 - val_loss: 0.3248 - val_accuracy: 0.8685\n"
     ]
    },
    {
     "data": {
      "image/png": "[encoded data removed]",
      "text/plain": [
       "<Figure size 432x288 with 2 Axes>"
      ]
     },
     "metadata": {
      "needs_background": "light"
     },
     "output_type": "display_data"
    },
    {
     "name": "stdout",
     "output_type": "stream",
     "text": [
      "8363\n"
     ]
    }
   ],
   "source": [
    "CONTINUE_TRAINING_MODEL = 'temp2.h5'\n",
    "model = tf.keras.models.load_model(CONTINUE_TRAINING_MODEL)\n",
    "model.compile(\n",
    "    optimizer=tf.keras.optimizers.SGD(learning_rate=0.001),\n",
    "    loss=tf.keras.losses.CategoricalCrossentropy(),\n",
    "    metrics=['accuracy']\n",
    ")\n",
    "callback = tf.keras.callbacks.EarlyStopping(monitor='val_accuracy', patience=5)\n",
    "history = model.fit(X_train, y_train, validation_split=0.1, epochs=20)\n",
    "model.save('temp3.h5')\n",
    "summarize_diagnostics(history, 'temp3')\n",
    "reset_keras(model)"
   ]
  },
  {
   "cell_type": "markdown",
   "metadata": {},
   "source": [
    "# Evaluation"
   ]
  },
  {
   "cell_type": "code",
   "execution_count": 20,
   "metadata": {},
   "outputs": [],
   "source": [
    "model = tf.keras.models.load_model('temp2.h5')"
   ]
  },
  {
   "cell_type": "code",
   "execution_count": 21,
   "metadata": {},
   "outputs": [
    {
     "name": "stdout",
     "output_type": "stream",
     "text": [
      "              precision    recall  f1-score   support\n",
      "\n",
      "           0       0.88      0.87      0.88      2480\n",
      "           1       0.87      0.89      0.88      2520\n",
      "\n",
      "    accuracy                           0.88      5000\n",
      "   macro avg       0.88      0.88      0.88      5000\n",
      "weighted avg       0.88      0.88      0.88      5000\n",
      "\n"
     ]
    }
   ],
   "source": [
    "y_pred = model.predict(X_test)\n",
    "y_pred = tf.argmax(y_pred, axis=1)\n",
    "y_true = tf.argmax(y_test, axis=1)\n",
    "print(classification_report(y_true, y_pred))"
   ]
  },
  {
   "cell_type": "code",
   "execution_count": 22,
   "metadata": {},
   "outputs": [
    {
     "data": {
      "image/png": "[encoded data removed]",
      "text/plain": [
       "<Figure size 432x288 with 2 Axes>"
      ]
     },
     "metadata": {
      "needs_background": "light"
     },
     "output_type": "display_data"
    }
   ],
   "source": [
    "cm = confusion_matrix(y_true, y_pred)\n",
    "plot_confusion_matrix(cm, classes=['cat', 'dog'])"
   ]
  },
  {
   "cell_type": "markdown",
   "metadata": {},
   "source": [
    "# Demo"
   ]
  },
  {
   "cell_type": "code",
   "execution_count": 8,
   "metadata": {},
   "outputs": [
    {
     "name": "stdout",
     "output_type": "stream",
     "text": [
      "tf.Tensor(1, shape=(), dtype=int64)\n"
     ]
    }
   ],
   "source": [
    "demo_img = cv2.imread('demo.jpg')\n",
    "demo_img = cv2.resize(demo_img, IMG_SIZE)\n",
    "\n",
    "CONTINUE_TRAINING_MODEL = 'CNN_0.88.h5'\n",
    "model = tf.keras.models.load_model(CONTINUE_TRAINING_MODEL)\n",
    "\n",
    "pred = model.predict(np.array([demo_img]))\n",
    "pred = tf.argmax(pred, axis=1)[0]\n",
    "print(pred)"
   ]
  },
  {
   "cell_type": "code",
   "execution_count": null,
   "metadata": {},
   "outputs": [],
   "source": []
  }
 ],
 "metadata": {
  "interpreter": {
   "hash": "6706836b6d636143e7992e2fa7ca11b1dc599b1eea6d76b5b8bf9b73eeafa2c0"
  },
  "kernelspec": {
   "display_name": "Python 3.7.6 64-bit",
   "language": "python",
   "name": "python3"
  },
  "language_info": {
   "codemirror_mode": {
    "name": "ipython",
    "version": 3
   },
   "file_extension": ".py",
   "mimetype": "text/x-python",
   "name": "python",
   "nbconvert_exporter": "python",
   "pygments_lexer": "ipython3",
   "version": "3.7.6"
  },
  "orig_nbformat": 4
 },
 "nbformat": 4,
 "nbformat_minor": 2
}
